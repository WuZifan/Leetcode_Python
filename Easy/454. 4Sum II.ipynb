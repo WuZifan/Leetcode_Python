{
 "cells": [
  {
   "cell_type": "markdown",
   "metadata": {},
   "source": [
    "## 思路：\n",
    "\n",
    "    两种思路：\n",
    "    1、4层for循环遍历所有情况-》超时\n",
    "    2、将4个list分成两部分，A和B一部分，C和D一部分\n",
    "        2.1 构建dict，a+b的值作为key，有多少次这样的值作为value\n",
    "        2.2 -（c+d）的值作为key，去dict中查询，查得到就累加，查不到就加0\n",
    "        \n",
    "    所以其实感觉：\n",
    "        1、一个数等于几\n",
    "        2、两个数之和等于几\n",
    "        3、大于两个数之和等于几\n",
    "    这三个是三种不同问题，一般可以把第三种问题通过分桶，转化为第二种问题。\n",
    "    第二种则可以利用dict等结构解决。"
   ]
  },
  {
   "cell_type": "code",
   "execution_count": 4,
   "metadata": {},
   "outputs": [],
   "source": [
    "class Solution(object):\n",
    "    def fourSumCount(self, A, B, C, D):\n",
    "        \"\"\"\n",
    "        :type A: List[int]\n",
    "        :type B: List[int]\n",
    "        :type C: List[int]\n",
    "        :type D: List[int]\n",
    "        :rtype: int\n",
    "        \"\"\"\n",
    "        cnt=0\n",
    "        ab={}\n",
    "        for a in A:\n",
    "            for b in B:\n",
    "                    ab[a+b]=ab.get(a+b,0)+1\n",
    "        \n",
    "        for c in C:\n",
    "            for  d in D:\n",
    "                    cnt+=ab.get(-(c+d),0)\n",
    "        return cnt"
   ]
  },
  {
   "cell_type": "code",
   "execution_count": 5,
   "metadata": {},
   "outputs": [
    {
     "data": {
      "text/plain": [
       "2"
      ]
     },
     "execution_count": 5,
     "metadata": {},
     "output_type": "execute_result"
    }
   ],
   "source": [
    "s=Solution()\n",
    "s.fourSumCount(A = [ 1, 2],B = [-2,-1],C = [-1, 2],D = [ 0, 2])"
   ]
  },
  {
   "cell_type": "code",
   "execution_count": null,
   "metadata": {},
   "outputs": [],
   "source": [
    "class Solution2(object):\n",
    "    def fourSumCount(self, A, B, C, D):\n",
    "        \"\"\"\n",
    "        :type A: List[int]\n",
    "        :type B: List[int]\n",
    "        :type C: List[int]\n",
    "        :type D: List[int]\n",
    "        :rtype: int\n",
    "        \"\"\"\n",
    "        cnt=0\n",
    "        for a in A:\n",
    "            for b in B:\n",
    "                for c in C:\n",
    "                    for d in D:\n",
    "                        if a+b+c+d==0:\n",
    "                            cnt+=1\n",
    "        return cnt"
   ]
  }
 ],
 "metadata": {
  "kernelspec": {
   "display_name": "Python 3",
   "language": "python",
   "name": "python3"
  },
  "language_info": {
   "codemirror_mode": {
    "name": "ipython",
    "version": 3
   },
   "file_extension": ".py",
   "mimetype": "text/x-python",
   "name": "python",
   "nbconvert_exporter": "python",
   "pygments_lexer": "ipython3",
   "version": "3.6.4"
  },
  "toc": {
   "base_numbering": 1,
   "nav_menu": {},
   "number_sections": true,
   "sideBar": true,
   "skip_h1_title": false,
   "title_cell": "Table of Contents",
   "title_sidebar": "Contents",
   "toc_cell": false,
   "toc_position": {},
   "toc_section_display": true,
   "toc_window_display": false
  }
 },
 "nbformat": 4,
 "nbformat_minor": 2
}
