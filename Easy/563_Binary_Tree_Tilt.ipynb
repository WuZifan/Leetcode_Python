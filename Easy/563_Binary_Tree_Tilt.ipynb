{
 "cells": [
  {
   "cell_type": "code",
   "execution_count": 3,
   "metadata": {},
   "outputs": [],
   "source": [
    "# Definition for a binary tree node.\n",
    "class TreeNode:\n",
    "    def __init__(self, x):\n",
    "        self.val = x\n",
    "        self.left = None\n",
    "        self.right = None"
   ]
  },
  {
   "cell_type": "code",
   "execution_count": 4,
   "metadata": {},
   "outputs": [],
   "source": [
    "'''\n",
    "         1\n",
    "    2       3\n",
    "4        5\n",
    "'''\n",
    "root = TreeNode(1)\n",
    "root.left=TreeNode(2)\n",
    "root.left.left=TreeNode(4)\n",
    "\n",
    "root.right=TreeNode(3)\n",
    "root.right.left=TreeNode(5)"
   ]
  },
  {
   "cell_type": "code",
   "execution_count": 5,
   "metadata": {},
   "outputs": [
    {
     "data": {
      "text/plain": [
       "11"
      ]
     },
     "execution_count": 5,
     "metadata": {},
     "output_type": "execute_result"
    }
   ],
   "source": [
    "class Solution:\n",
    "    def findTilt(self, root):\n",
    "        if root== None:\n",
    "            return 0\n",
    "        return self.search(root)\n",
    "    \n",
    "    def search(self,root):\n",
    "        # 计算根的倾斜度\n",
    "        temp_res = self.cal_tilf(root)\n",
    "        # 计算左节点的倾斜度\n",
    "        if root.left!=None:\n",
    "            temp_res+=self.search(root.left)\n",
    "        # 计算右节点的倾斜度    \n",
    "        if root.right!=None:\n",
    "            temp_res+=self.search(root.right)\n",
    "        \n",
    "        return temp_res\n",
    "    \n",
    "    # 计算倾斜度\n",
    "    def cal_tilf(self,root):\n",
    "        left_sum = 0\n",
    "        right_sum = 0\n",
    "        if root.left!=None:\n",
    "            left_sum = self.sum_tree(root.left)\n",
    "        \n",
    "        if root.right!=None:\n",
    "            right_sum = self.sum_tree(root.right)\n",
    "        \n",
    "        return abs(left_sum-right_sum)\n",
    "        \n",
    "    # 求和\n",
    "    def sum_tree(self,root):\n",
    "        now_val = root.val\n",
    "        if root.left!=None:\n",
    "            now_val+=self.sum_tree(root.left)\n",
    "        \n",
    "        if root.right!=None:\n",
    "            now_val+=self.sum_tree(root.right)\n",
    "        \n",
    "        return now_val\n",
    "\n",
    "\n",
    "s= Solution()\n",
    "s.findTilt(root)"
   ]
  },
  {
   "cell_type": "code",
   "execution_count": 6,
   "metadata": {},
   "outputs": [],
   "source": [
    "def prior_search(root):\n",
    "    \"\"\"\n",
    "    根，左，右\n",
    "    \"\"\"\n",
    "    if root is None:\n",
    "        print('tree is empty')\n",
    "        return\n",
    "    print(root.val)\n",
    "    if root.left is not None:\n",
    "        prior_search(root.left)\n",
    "    \n",
    "    if root.right is not None:\n",
    "        prior_search(root.right)"
   ]
  },
  {
   "cell_type": "code",
   "execution_count": 10,
   "metadata": {},
   "outputs": [
    {
     "name": "stdout",
     "output_type": "stream",
     "text": [
      "4\n",
      "2\n",
      "1\n",
      "5\n",
      "3\n"
     ]
    }
   ],
   "source": [
    "def middel_search(root):\n",
    "    \"\"\"\n",
    "    左，根，右\n",
    "    \"\"\"\n",
    "    if root is None:\n",
    "        print('tree is empty')\n",
    "        return\n",
    "    \n",
    "    if root.left is not None:\n",
    "        middel_search(root.left)\n",
    "        \n",
    "    print(root.val)\n",
    "    if root.right is not None:\n",
    "        middel_search(root.right)\n",
    "middel_search(root)"
   ]
  },
  {
   "cell_type": "code",
   "execution_count": 13,
   "metadata": {},
   "outputs": [
    {
     "name": "stdout",
     "output_type": "stream",
     "text": [
      "4\n",
      "2\n",
      "5\n",
      "3\n",
      "1\n"
     ]
    },
    {
     "data": {
      "text/plain": [
       "(11, 15)"
      ]
     },
     "execution_count": 13,
     "metadata": {},
     "output_type": "execute_result"
    }
   ],
   "source": [
    "'''\n",
    "思路：\n",
    "    后序遍历\n",
    "    每次遍历，不仅获得当前子树的tile，还会把自己的sum上报，从而让上一级的数也可以计算tile\n",
    "'''\n",
    "def post_search(root):\n",
    "    \"\"\"\n",
    "    左，右，根\n",
    "    \"\"\"\n",
    "    if root is None:\n",
    "        print('tree is empty')\n",
    "        return\n",
    "    \n",
    "    left_tile = 0\n",
    "    left_val = 0\n",
    "    if root.left is not None:\n",
    "        left_tile,left_val = post_search(root.left)\n",
    "        \n",
    "    right_tile = 0\n",
    "    right_val = 0\n",
    "    if root.right is not None:\n",
    "        right_tile,right_val = post_search(root.right)\n",
    "    print(root.val)\n",
    "    \n",
    "    return left_tile+right_tile+abs(right_val-left_val),right_val+left_val+root.val\n",
    "post_search(root)"
   ]
  },
  {
   "cell_type": "code",
   "execution_count": null,
   "metadata": {},
   "outputs": [],
   "source": []
  }
 ],
 "metadata": {
  "kernelspec": {
   "display_name": "Python 3",
   "language": "python",
   "name": "python3"
  },
  "language_info": {
   "codemirror_mode": {
    "name": "ipython",
    "version": 3
   },
   "file_extension": ".py",
   "mimetype": "text/x-python",
   "name": "python",
   "nbconvert_exporter": "python",
   "pygments_lexer": "ipython3",
   "version": "3.6.3"
  },
  "toc": {
   "nav_menu": {},
   "number_sections": true,
   "sideBar": true,
   "skip_h1_title": false,
   "toc_cell": false,
   "toc_position": {},
   "toc_section_display": "block",
   "toc_window_display": false
  }
 },
 "nbformat": 4,
 "nbformat_minor": 2
}
