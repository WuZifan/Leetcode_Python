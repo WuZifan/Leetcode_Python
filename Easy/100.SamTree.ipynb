{
 "cells": [
  {
   "cell_type": "markdown",
   "metadata": {},
   "source": [
    "## 思路：\n",
    "\n",
    "    1、其实就是个树的遍历问题，前序中序后序哪个顺眼用哪个\n",
    "    2、都是递归，感觉就是谁的递归用的代码少…"
   ]
  },
  {
   "cell_type": "code",
   "execution_count": 29,
   "metadata": {},
   "outputs": [],
   "source": [
    "# Definition for a binary tree node.\n",
    "class TreeNode(object):\n",
    "    def __init__(self, x):\n",
    "        self.val = x\n",
    "        self.left = None\n",
    "        self.right = None\n",
    "\n",
    "class Solution(object):\n",
    "    def isSameTree(self, p, q):\n",
    "        \"\"\"\n",
    "        :type p: TreeNode\n",
    "        :type q: TreeNode\n",
    "        :rtype: bool\n",
    "        \"\"\"\n",
    "        return traversal(root1,root2)\n",
    "\n",
    "    def traversal(self,root1,root2):\n",
    "        if root1 is None and root2 is None:\n",
    "            return True\n",
    "        elif root1 is None or root2 is None or root1.val!=root2.val:\n",
    "            return False\n",
    "\n",
    "        flag=traversal(self,root1.left,root2.left)\n",
    "        if not flag:\n",
    "            return flag\n",
    "\n",
    "        flag=traversal(self,root1.right,root2.right)\n",
    "        return flag\n"
   ]
  },
  {
   "cell_type": "code",
   "execution_count": 30,
   "metadata": {},
   "outputs": [],
   "source": [
    "'''\n",
    "大神写法\n",
    "'''\n",
    "class Solution(object):\n",
    "    def isSameTree(self, p, q):\n",
    "        \"\"\"\n",
    "        :type p: TreeNode\n",
    "        :type q: TreeNode\n",
    "        :rtype: bool\n",
    "        \"\"\"\n",
    "        if p is None and q is None:\n",
    "            return True\n",
    "        if p is None or q is None:\n",
    "            return False\n",
    "        return (p.val == q.val and \n",
    "                self.isSameTree(p.left, q.left) and \n",
    "                self.isSameTree(p.right, q.right)\n",
    "               )"
   ]
  },
  {
   "cell_type": "code",
   "execution_count": 23,
   "metadata": {},
   "outputs": [],
   "source": [
    "t1=TreeNode(1)\n",
    "t1.left=TreeNode(2)\n",
    "t1.right=TreeNode(3)\n",
    "\n",
    "t2=TreeNode(1)\n",
    "t2.left=TreeNode(2)\n",
    "t2.right=TreeNode(2)\n"
   ]
  },
  {
   "cell_type": "code",
   "execution_count": 26,
   "metadata": {},
   "outputs": [],
   "source": [
    "def traversal(root1,root2):\n",
    "    if root1 is None and root2 is None:\n",
    "        return True\n",
    "    elif root1 is None or root2 is None or root1.val!=root2.val:\n",
    "        return False\n",
    "\n",
    "    flag=traversal(root1.left,root2.left)\n",
    "    if not flag:\n",
    "        return flag\n",
    "    \n",
    "    flag=traversal(root1.right,root2.right)\n",
    "    return flag\n",
    "    "
   ]
  },
  {
   "cell_type": "code",
   "execution_count": 27,
   "metadata": {},
   "outputs": [
    {
     "name": "stdout",
     "output_type": "stream",
     "text": [
      "True\n",
      "True\n"
     ]
    },
    {
     "data": {
      "text/plain": [
       "False"
      ]
     },
     "execution_count": 27,
     "metadata": {},
     "output_type": "execute_result"
    }
   ],
   "source": [
    "traversal(t1,t2)"
   ]
  },
  {
   "cell_type": "code",
   "execution_count": null,
   "metadata": {},
   "outputs": [],
   "source": []
  }
 ],
 "metadata": {
  "kernelspec": {
   "display_name": "Python 3",
   "language": "python",
   "name": "python3"
  },
  "language_info": {
   "codemirror_mode": {
    "name": "ipython",
    "version": 3
   },
   "file_extension": ".py",
   "mimetype": "text/x-python",
   "name": "python",
   "nbconvert_exporter": "python",
   "pygments_lexer": "ipython3",
   "version": "3.6.4"
  },
  "toc": {
   "base_numbering": 1,
   "nav_menu": {},
   "number_sections": true,
   "sideBar": true,
   "skip_h1_title": false,
   "title_cell": "Table of Contents",
   "title_sidebar": "Contents",
   "toc_cell": false,
   "toc_position": {},
   "toc_section_display": true,
   "toc_window_display": false
  }
 },
 "nbformat": 4,
 "nbformat_minor": 2
}
