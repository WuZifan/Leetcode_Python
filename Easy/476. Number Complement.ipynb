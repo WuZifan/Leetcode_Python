{
 "cells": [
  {
   "cell_type": "markdown",
   "metadata": {},
   "source": [
    "# 思路：\n",
    "\n",
    "    1、考察对位运算的熟悉程度。\n",
    "    2、先将数字转换为2进制表示，然后按位取反.计算总结过\n",
    "    \n",
    "    1、也可以知道原数字b要n位二进制表示后，计算a=2^n-1，返回a^b（按位取反）即可。"
   ]
  },
  {
   "cell_type": "code",
   "execution_count": 57,
   "metadata": {},
   "outputs": [],
   "source": [
    "def solution(num):\n",
    "    temp=str(bin(num))[2:]\n",
    "    \n",
    "    temp_2=2**len(temp)-1\n",
    "    return temp_2^num\n",
    "    \n",
    "    result='0b'\n",
    "    for i in temp:\n",
    "        if i =='1':\n",
    "            result+='0'\n",
    "        else:\n",
    "            result+='1'\n",
    "    return int(result,2)"
   ]
  },
  {
   "cell_type": "code",
   "execution_count": 56,
   "metadata": {},
   "outputs": [
    {
     "data": {
      "text/plain": [
       "1"
      ]
     },
     "execution_count": 56,
     "metadata": {},
     "output_type": "execute_result"
    }
   ],
   "source": [
    "solution(2)"
   ]
  },
  {
   "cell_type": "code",
   "execution_count": null,
   "metadata": {},
   "outputs": [],
   "source": []
  }
 ],
 "metadata": {
  "kernelspec": {
   "display_name": "Python 3",
   "language": "python",
   "name": "python3"
  },
  "language_info": {
   "codemirror_mode": {
    "name": "ipython",
    "version": 3
   },
   "file_extension": ".py",
   "mimetype": "text/x-python",
   "name": "python",
   "nbconvert_exporter": "python",
   "pygments_lexer": "ipython3",
   "version": "3.6.3"
  },
  "toc": {
   "nav_menu": {},
   "number_sections": true,
   "sideBar": true,
   "skip_h1_title": false,
   "toc_cell": false,
   "toc_position": {},
   "toc_section_display": "block",
   "toc_window_display": false
  }
 },
 "nbformat": 4,
 "nbformat_minor": 2
}
