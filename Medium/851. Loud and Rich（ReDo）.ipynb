{
 "cells": [
  {
   "cell_type": "markdown",
   "metadata": {},
   "source": [
    "## 思路：\n",
    "\n",
    "    1、这里的基本思路还是图+dfs\n",
    "    2、构件图的方法随意，我直接用richer里面的内容作为图了，这样感觉每次要搜索，慢一点。\n",
    "        2.1 不同的表示方式见这里 http://www.cnblogs.com/liushang0419/archive/2011/05/06/2039386.html\n",
    "    3、它采用邻接表表示，查询起来会更快一点吧。\n",
    "    4、然后对每个点采用dfs有限搜索。\n",
    "    5、关键在于\n",
    "        5.1 当我查找到0节点，1节点结果之后，要继续计算2节点的结果\n",
    "        5.2 那么如果0和1节点都是2节点的后续节点，那么就不用继续递归遍历，直接用0和1之前的结果代替就行了\n",
    "        5.3 降低了搜索的路径长度。"
   ]
  },
  {
   "cell_type": "code",
   "execution_count": 1,
   "metadata": {},
   "outputs": [],
   "source": [
    "class Solution(object):\n",
    "    def loudAndRich(self, richer, quiet):\n",
    "        \"\"\"\n",
    "        :type richer: List[List[int]]\n",
    "        :type quiet: List[int]\n",
    "        :rtype: List[int]\n",
    "        \"\"\"\n",
    "        N = len(quiet)\n",
    "        graph = [[] for _ in xrange(N)]\n",
    "        for u, v in richer:\n",
    "            graph[v].append(u)\n",
    "\n",
    "        answer = [None] * N\n",
    "        def dfs(node):\n",
    "            #Want least quiet person in this subtree\n",
    "            if answer[node] is None:\n",
    "                answer[node] = node\n",
    "                for child in graph[node]:\n",
    "                    cand = dfs(child)\n",
    "                    if quiet[cand] < quiet[answer[node]]:\n",
    "                        answer[node] = cand\n",
    "            return answer[node]\n",
    "\n",
    "        return map(dfs, range(N))"
   ]
  },
  {
   "cell_type": "code",
   "execution_count": 3,
   "metadata": {},
   "outputs": [],
   "source": [
    "richer = [[1,0],[2,1],[3,1],[3,7],[4,3],[5,3],[6,3]]\n",
    "quiet = [3,2,5,4,6,1,7,0]"
   ]
  },
  {
   "cell_type": "code",
   "execution_count": 5,
   "metadata": {},
   "outputs": [],
   "source": [
    "N = len(quiet)\n",
    "graph = [[] for _ in range(N)]\n",
    "for u, v in richer:\n",
    "    graph[v].append(u)"
   ]
  },
  {
   "cell_type": "code",
   "execution_count": 6,
   "metadata": {},
   "outputs": [
    {
     "data": {
      "text/plain": [
       "[[1], [2, 3], [], [4, 5, 6], [], [], [], [3]]"
      ]
     },
     "execution_count": 6,
     "metadata": {},
     "output_type": "execute_result"
    }
   ],
   "source": [
    "graph"
   ]
  }
 ],
 "metadata": {
  "kernelspec": {
   "display_name": "Python 3",
   "language": "python",
   "name": "python3"
  },
  "language_info": {
   "codemirror_mode": {
    "name": "ipython",
    "version": 3
   },
   "file_extension": ".py",
   "mimetype": "text/x-python",
   "name": "python",
   "nbconvert_exporter": "python",
   "pygments_lexer": "ipython3",
   "version": "3.6.4"
  },
  "toc": {
   "base_numbering": 1,
   "nav_menu": {},
   "number_sections": true,
   "sideBar": true,
   "skip_h1_title": false,
   "title_cell": "Table of Contents",
   "title_sidebar": "Contents",
   "toc_cell": false,
   "toc_position": {},
   "toc_section_display": true,
   "toc_window_display": false
  }
 },
 "nbformat": 4,
 "nbformat_minor": 2
}
