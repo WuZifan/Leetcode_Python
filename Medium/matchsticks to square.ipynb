{
 "cells": [
  {
   "cell_type": "code",
   "execution_count": 37,
   "metadata": {},
   "outputs": [],
   "source": [
    "def solution(nums):\n",
    "    nums.sort(reverse=True)\n",
    "    nums_sum=sum(nums)\n",
    "    nums_4=nums_sum/4\n",
    "    if int(nums_4)!=nums_4:\n",
    "        return False\n",
    "    cnt_edg=0\n",
    "    \n",
    "    nums_len=len(nums)\n",
    "    i=0\n",
    "    while i <nums_len:\n",
    "        temp=nums[0]\n",
    "        nums.remove(temp)\n",
    "\n",
    "\n",
    "        if nums_4-temp==0:\n",
    "            cnt_edg+=1\n",
    "        elif nums_4-temp in nums:\n",
    "            nums.remove(nums_4-temp)\n",
    "            cnt_edg+=1\n",
    "        else:\n",
    "            break\n",
    "            \n",
    "        if cnt_edg==4:\n",
    "            break\n",
    "        i+=1\n",
    "    if cnt_edg==4 and len(nums)==0:\n",
    "        return True\n",
    "    \n",
    "    return False"
   ]
  },
  {
   "cell_type": "code",
   "execution_count": 39,
   "metadata": {},
   "outputs": [
    {
     "name": "stdout",
     "output_type": "stream",
     "text": [
      "12.0\n"
     ]
    },
    {
     "data": {
      "text/plain": [
       "False"
      ]
     },
     "execution_count": 39,
     "metadata": {},
     "output_type": "execute_result"
    }
   ],
   "source": [
    "nums_1=[1,1,2,2,2]\n",
    "nums_2=[3,3,3,3,4]\n",
    "nums_3=[10,6,5,5,5,3,3,3,2,2,2,2]\n",
    "nums_4=[5,5,5,5,4,4,4,4,3,3,3,3]\n",
    "print(sum(nums_4)/4)\n",
    "solution(nums_4)"
   ]
  },
  {
   "cell_type": "code",
   "execution_count": 4,
   "metadata": {},
   "outputs": [
    {
     "data": {
      "text/plain": [
       "[4, 3, 3, 3, 3]"
      ]
     },
     "execution_count": 4,
     "metadata": {},
     "output_type": "execute_result"
    }
   ],
   "source": [
    "nums_2.sort(reverse=True)\n",
    "nums_2"
   ]
  },
  {
   "cell_type": "code",
   "execution_count": null,
   "metadata": {},
   "outputs": [],
   "source": []
  }
 ],
 "metadata": {
  "kernelspec": {
   "display_name": "Python 3",
   "language": "python",
   "name": "python3"
  },
  "language_info": {
   "codemirror_mode": {
    "name": "ipython",
    "version": 3
   },
   "file_extension": ".py",
   "mimetype": "text/x-python",
   "name": "python",
   "nbconvert_exporter": "python",
   "pygments_lexer": "ipython3",
   "version": "3.6.3"
  },
  "toc": {
   "nav_menu": {},
   "number_sections": true,
   "sideBar": true,
   "skip_h1_title": false,
   "toc_cell": false,
   "toc_position": {},
   "toc_section_display": "block",
   "toc_window_display": false
  }
 },
 "nbformat": 4,
 "nbformat_minor": 2
}
