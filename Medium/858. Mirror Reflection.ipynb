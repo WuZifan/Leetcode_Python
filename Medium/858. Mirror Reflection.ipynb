{
 "cells": [
  {
   "cell_type": "markdown",
   "metadata": {},
   "source": [
    "## 思路\n",
    "\n",
    "    1、这就是一个披着镜子外衣的最小公倍数问题\n",
    "    2、p和q就像y*a=x*b中的a和b，我们只要找到使得等式成立的y和x\n",
    "    3、然后找规律就能得出结果。\n",
    "    4、时间上的限制就在找到y和x的过程中。"
   ]
  },
  {
   "cell_type": "code",
   "execution_count": 21,
   "metadata": {},
   "outputs": [],
   "source": [
    "def reverse(org,direct):\n",
    "    if direct=='hor':\n",
    "        temp_0=org[0][0]\n",
    "        temp_1=org[1][0]\n",
    "        org[0][0]=org[0][1]\n",
    "        org[1][0]=org[1][1]\n",
    "        \n",
    "        org[0][1]=temp_0\n",
    "        org[1][1]=temp_1\n",
    "        return org\n",
    "    elif direct=='ver':\n",
    "        temp_0=org[0][0]\n",
    "        temp_1=org[0][1]\n",
    "        org[0][0]=org[1][0]\n",
    "        org[0][1]=org[1][1]\n",
    "        \n",
    "        org[1][0]=temp_0\n",
    "        org[1][1]=temp_1\n",
    "        return org\n",
    "    \n",
    "def solution(p,q):\n",
    "    org=[[2,1,],\n",
    "          [-1,0]]\n",
    "    x=p\n",
    "    y=0\n",
    "    while True:\n",
    "        temp=x*q/p\n",
    "        y=temp/p\n",
    "        if int(y)==y:\n",
    "            break\n",
    "        x+=p\n",
    "    x=x/p\n",
    "    y=y\n",
    "    \n",
    "    real_final=0\n",
    "    # horizon\n",
    "    if x%2==0:\n",
    "        final=2\n",
    "    else:\n",
    "        final=1\n",
    "        \n",
    "    # vertical\n",
    "    if final==1:\n",
    "        if y%2==0:\n",
    "            real_final=0\n",
    "        else:\n",
    "            real_final=1\n",
    "    else:\n",
    "        if y%2==0:\n",
    "            real_final=0\n",
    "        else:\n",
    "            real_final=2\n",
    "            \n",
    "    \n",
    "    for i in range(int(x-1)):\n",
    "        org=reverse(org,'hor')\n",
    "    for i in range(int(y-1)):\n",
    "        org=reverse(org,'ver')\n",
    "    return org[0][1]"
   ]
  },
  {
   "cell_type": "code",
   "execution_count": 22,
   "metadata": {},
   "outputs": [
    {
     "data": {
      "text/plain": [
       "2"
      ]
     },
     "execution_count": 22,
     "metadata": {},
     "output_type": "execute_result"
    }
   ],
   "source": [
    "solution(2,1)"
   ]
  },
  {
   "cell_type": "code",
   "execution_count": 13,
   "metadata": {},
   "outputs": [
    {
     "data": {
      "text/plain": [
       "[[-1, 0], [2, 1]]"
      ]
     },
     "execution_count": 13,
     "metadata": {},
     "output_type": "execute_result"
    }
   ],
   "source": [
    "org=[[2,1,],\n",
    "      [-1,0]]\n",
    "reverse(org,'ver')\n"
   ]
  },
  {
   "cell_type": "code",
   "execution_count": null,
   "metadata": {},
   "outputs": [],
   "source": []
  }
 ],
 "metadata": {
  "kernelspec": {
   "display_name": "Python 3",
   "language": "python",
   "name": "python3"
  },
  "language_info": {
   "codemirror_mode": {
    "name": "ipython",
    "version": 3
   },
   "file_extension": ".py",
   "mimetype": "text/x-python",
   "name": "python",
   "nbconvert_exporter": "python",
   "pygments_lexer": "ipython3",
   "version": "3.6.4"
  },
  "toc": {
   "base_numbering": 1,
   "nav_menu": {},
   "number_sections": true,
   "sideBar": true,
   "skip_h1_title": false,
   "title_cell": "Table of Contents",
   "title_sidebar": "Contents",
   "toc_cell": false,
   "toc_position": {},
   "toc_section_display": true,
   "toc_window_display": false
  }
 },
 "nbformat": 4,
 "nbformat_minor": 2
}
