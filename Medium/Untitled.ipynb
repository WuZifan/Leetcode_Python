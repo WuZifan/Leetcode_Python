{
 "cells": [
  {
   "cell_type": "markdown",
   "metadata": {},
   "source": [
    "## 思路：\n",
    "\n",
    "    1、难点还是在时间把控上：\n",
    "        1.1 可以选择计算每k个连续的值之和，然后和最大的比较。\n",
    "        1.2 但是如何计算着连续的k值之和有讲究，不用每次全部加，只要减去头部，加上尾部就行了\n",
    "        1.3 也不用每次算均值，最后再算均值也行的。"
   ]
  },
  {
   "cell_type": "code",
   "execution_count": 93,
   "metadata": {},
   "outputs": [],
   "source": [
    "class Solution:\n",
    "    def findMaxAverage(self, nums, k):\n",
    "        \"\"\"\n",
    "        :type nums: List[int]\n",
    "        :type k: int\n",
    "        :rtype: float\n",
    "        \"\"\"\n",
    "        i=0\n",
    "        max_avg=sum(nums[:k])\n",
    "        temp_sum=sum(nums[:k])\n",
    "        print(nums[:k])\n",
    "        i+=1\n",
    "        while i+k<=len(nums):\n",
    "            print(i,i+k-1)\n",
    "            temp_sum=temp_sum-nums[i-1]+nums[i+k-1]\n",
    "            if temp_sum>max_avg:\n",
    "                max_avg=temp_sum\n",
    "            i+=1\n",
    "        return max_avg/k\n",
    "    \n",
    "    def find2(self,nums,k):\n",
    "        res, i, summ = sum(nums[:k]), 1, sum(nums[:k])\n",
    "        while i <= len(nums) - k:\n",
    "            summ = summ - nums[i-1] + nums[i+k-1]\n",
    "            res = max(res, summ)\n",
    "            i += 1\n",
    "        return res / k"
   ]
  },
  {
   "cell_type": "code",
   "execution_count": 95,
   "metadata": {},
   "outputs": [
    {
     "name": "stdout",
     "output_type": "stream",
     "text": [
      "[0, 1, 1, 3]\n",
      "1 4\n"
     ]
    },
    {
     "data": {
      "text/plain": [
       "2.0"
      ]
     },
     "execution_count": 95,
     "metadata": {},
     "output_type": "execute_result"
    }
   ],
   "source": [
    "s=Solution()\n",
    "s.findMaxAverage([0,1,1,3,3], k = 4)"
   ]
  },
  {
   "cell_type": "code",
   "execution_count": 97,
   "metadata": {},
   "outputs": [
    {
     "name": "stdout",
     "output_type": "stream",
     "text": [
      "1\n",
      "3\n",
      "[1, 2]\n"
     ]
    }
   ],
   "source": [
    "aa=[0,1,2,3,4,5,6,7]\n",
    "print(aa[1])\n",
    "print(aa[1+2])\n",
    "print(aa[1:3])"
   ]
  },
  {
   "cell_type": "code",
   "execution_count": null,
   "metadata": {},
   "outputs": [],
   "source": []
  }
 ],
 "metadata": {
  "kernelspec": {
   "display_name": "Python 3",
   "language": "python",
   "name": "python3"
  },
  "language_info": {
   "codemirror_mode": {
    "name": "ipython",
    "version": 3
   },
   "file_extension": ".py",
   "mimetype": "text/x-python",
   "name": "python",
   "nbconvert_exporter": "python",
   "pygments_lexer": "ipython3",
   "version": "3.6.3"
  },
  "toc": {
   "nav_menu": {},
   "number_sections": true,
   "sideBar": true,
   "skip_h1_title": false,
   "toc_cell": false,
   "toc_position": {},
   "toc_section_display": "block",
   "toc_window_display": false
  }
 },
 "nbformat": 4,
 "nbformat_minor": 2
}
