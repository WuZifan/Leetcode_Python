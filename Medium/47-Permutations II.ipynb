{
 "cells": [
  {
   "cell_type": "code",
   "execution_count": 67,
   "metadata": {},
   "outputs": [],
   "source": [
    "class Solution:\n",
    "    def permuteUnique(self, nums):\n",
    "        \n",
    "        # 思路：数组长为3时就写3个循环，长度不定就递归写。\n",
    "        #      数组长度不定时就写递归\n",
    "        #      的确这就是一个深度优先遍历（dfs）。\n",
    "        #      另外注意深&浅复制的问题。 \n",
    "                        \n",
    "        re_list,judge_list=self.digui(nums,0,[],[],[])                \n",
    "               \n",
    "        return re_list\n",
    "    \n",
    "    \n",
    "    def digui(self,nums,ind,re_list,judge_list,temp_list):\n",
    "                \n",
    "        for i in nums:\n",
    "\n",
    "            if len(temp_list)==ind:\n",
    "                temp_list.append(i)\n",
    "            else:\n",
    "                temp_list[ind]=i\n",
    "\n",
    "            b=nums.copy()\n",
    "            b.remove(i)\n",
    "\n",
    "            if len(nums)==1:\n",
    "                temp_judge=''.join([str(_) for _ in temp_list])\n",
    "                if temp_judge not in judge_list:\n",
    "                    judge_list.append(temp_judge)\n",
    "                                        \n",
    "                    re_list.append(temp_list.copy())\n",
    "            else:\n",
    "                re_list,judge_list=self.digui(b,ind+1,re_list,judge_list,temp_list)\n",
    "                \n",
    "        return re_list,judge_list"
   ]
  },
  {
   "cell_type": "code",
   "execution_count": 107,
   "metadata": {},
   "outputs": [
    {
     "name": "stdout",
     "output_type": "stream",
     "text": [
      "[[3, 3, 1], [3, 1, 3], [1, 3, 3]]\n"
     ]
    }
   ],
   "source": [
    "s=Solution()\n",
    "print(s.permuteUnique([3,3,1]))\n",
    "# s.digui([1,2,3],0,[],[],[])"
   ]
  },
  {
   "cell_type": "code",
   "execution_count": 15,
   "metadata": {},
   "outputs": [
    {
     "data": {
      "text/plain": [
       "'121'"
      ]
     },
     "execution_count": 15,
     "metadata": {},
     "output_type": "execute_result"
    }
   ],
   "source": [
    "a=[1,2,1]\n",
    "''.join([str(b) for b in a])"
   ]
  },
  {
   "cell_type": "code",
   "execution_count": 92,
   "metadata": {},
   "outputs": [],
   "source": [
    "class Solution2:\n",
    "    def helper(self, nums, path, res):\n",
    "        print('nums',nums)\n",
    "        print('path',path)\n",
    "        print()\n",
    "        \n",
    "        \n",
    "        if not nums:\n",
    "            res.append(path)\n",
    "            return\n",
    "\n",
    "        # 相当于对于任意的一位而言，相同的内容我只放一位在上面。\n",
    "        for i in range(len(nums)):\n",
    "            if i > 0 and nums[i] == nums[i-1]:\n",
    "                continue\n",
    "            self.helper(nums[:i] + nums[(i+1):], path + [nums[i]], res)\n",
    "        \n",
    "    def permuteUnique(self, nums):\n",
    "        \"\"\"\n",
    "        :type nums: List[int]\n",
    "        :rtype: List[List[int]]\n",
    "        \"\"\"\n",
    "        nums.sort()\n",
    "        res = []\n",
    "        self.helper(nums, [],res)\n",
    "        return res"
   ]
  },
  {
   "cell_type": "code",
   "execution_count": 91,
   "metadata": {},
   "outputs": [
    {
     "name": "stdout",
     "output_type": "stream",
     "text": [
      "nums [1, 1, 2]\n",
      "path []\n",
      "\n",
      "nums [1, 2]\n",
      "path [1]\n",
      "\n",
      "nums [2]\n",
      "path [1, 1]\n",
      "\n",
      "nums []\n",
      "path [1, 1, 2]\n",
      "\n",
      "nums [1]\n",
      "path [1, 2]\n",
      "\n",
      "nums []\n",
      "path [1, 2, 1]\n",
      "\n",
      "nums [1, 1]\n",
      "path [2]\n",
      "\n",
      "nums [1]\n",
      "path [2, 1]\n",
      "\n",
      "nums []\n",
      "path [2, 1, 1]\n",
      "\n"
     ]
    },
    {
     "data": {
      "text/plain": [
       "[[1, 1, 2], [1, 2, 1], [2, 1, 1]]"
      ]
     },
     "execution_count": 91,
     "metadata": {},
     "output_type": "execute_result"
    }
   ],
   "source": [
    "s2=Solution2()\n",
    "s2.permuteUnique([1,2,1])"
   ]
  },
  {
   "cell_type": "code",
   "execution_count": 104,
   "metadata": {},
   "outputs": [],
   "source": [
    "# 减少了需要迭代的次数\n",
    "class Solutions3():\n",
    "    \n",
    "    \n",
    "    def permuteUnique(self, nums):\n",
    "        \"\"\"\n",
    "        :type nums: List[int]\n",
    "        :rtype: List[List[int]]\n",
    "        \"\"\"\n",
    "        nums.sort()\n",
    "        res = []\n",
    "        self.helper(nums, [], res)\n",
    "        return res\n",
    "    \n",
    "    def helper(self,nums,path,res):\n",
    "        if len(nums)==0:\n",
    "            res.append(path)\n",
    "            return\n",
    "        \n",
    "        for i in range(len(nums)):\n",
    "            \n",
    "            if i>0 and nums[i]==nums[i-1]:\n",
    "                continue\n",
    "            temp=nums.copy()\n",
    "            temp.remove(nums[i])\n",
    "            self.helper(temp,path+[nums[i]],res)"
   ]
  },
  {
   "cell_type": "code",
   "execution_count": 106,
   "metadata": {},
   "outputs": [
    {
     "data": {
      "text/plain": [
       "[[1, 1, 2], [1, 2, 1], [2, 1, 1]]"
      ]
     },
     "execution_count": 106,
     "metadata": {},
     "output_type": "execute_result"
    }
   ],
   "source": [
    "s3=Solutions3()\n",
    "s3.permuteUnique([1,2,1])"
   ]
  },
  {
   "cell_type": "code",
   "execution_count": null,
   "metadata": {},
   "outputs": [],
   "source": []
  }
 ],
 "metadata": {
  "kernelspec": {
   "display_name": "Python 3",
   "language": "python",
   "name": "python3"
  },
  "language_info": {
   "codemirror_mode": {
    "name": "ipython",
    "version": 3
   },
   "file_extension": ".py",
   "mimetype": "text/x-python",
   "name": "python",
   "nbconvert_exporter": "python",
   "pygments_lexer": "ipython3",
   "version": "3.6.3"
  },
  "toc": {
   "nav_menu": {},
   "number_sections": true,
   "sideBar": true,
   "skip_h1_title": false,
   "toc_cell": false,
   "toc_position": {},
   "toc_section_display": "block",
   "toc_window_display": false
  }
 },
 "nbformat": 4,
 "nbformat_minor": 2
}
