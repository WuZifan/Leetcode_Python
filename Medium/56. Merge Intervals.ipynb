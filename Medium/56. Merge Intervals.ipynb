{
 "cells": [
  {
   "cell_type": "markdown",
   "metadata": {},
   "source": [
    "## 思路：\n",
    "\n",
    "    1、没有看起来的那么难\n",
    "    2、通过根据第一位排序，然后利用栈来进行逐个筛选就好了"
   ]
  },
  {
   "cell_type": "code",
   "execution_count": 23,
   "metadata": {},
   "outputs": [],
   "source": [
    "def merge(intervals):\n",
    "    \"\"\"\n",
    "    :type intervals: List[Interval]\n",
    "    :rtype: List[Interval]\n",
    "    \"\"\"\n",
    "    intervals.sort(key=lambda x:x[0])\n",
    "    print(intervals)\n",
    "    result=[]\n",
    "    result.append(intervals[0])\n",
    "    for i in range(1,len(intervals)):\n",
    "        old_one=result.pop()\n",
    "        temp_one=intervals[i]\n",
    "        print(old_one,temp_one)\n",
    "        if temp_one[0]>=old_one[0] and temp_one[0]<=old_one[1]:\n",
    "            old_one[1]=max(old_one[1],temp_one[1])\n",
    "            result.append(old_one)\n",
    "        else:\n",
    "            result.append(old_one)\n",
    "            result.append(temp_one)\n",
    "    return result"
   ]
  },
  {
   "cell_type": "code",
   "execution_count": 25,
   "metadata": {},
   "outputs": [
    {
     "name": "stdout",
     "output_type": "stream",
     "text": [
      "[[1, 4], [4, 5]]\n",
      "[1, 4] [4, 5]\n"
     ]
    },
    {
     "data": {
      "text/plain": [
       "[[1, 5]]"
      ]
     },
     "execution_count": 25,
     "metadata": {},
     "output_type": "execute_result"
    }
   ],
   "source": [
    "test=[[1,3],[2,6],[8,10],[15,18]]\n",
    "test2=[[1,4],[4,5]]\n",
    "merge(test2)"
   ]
  },
  {
   "cell_type": "code",
   "execution_count": 10,
   "metadata": {},
   "outputs": [
    {
     "data": {
      "text/plain": [
       "[[4, 6], [3, 5], [2, 1]]"
      ]
     },
     "execution_count": 10,
     "metadata": {},
     "output_type": "execute_result"
    }
   ],
   "source": [
    "aa=[[2,1],[4,6],[3,5]]\n",
    "aa.sort(key=lambda x:x[0],reverse=True)\n",
    "aa"
   ]
  },
  {
   "cell_type": "code",
   "execution_count": 16,
   "metadata": {},
   "outputs": [
    {
     "data": {
      "text/plain": [
       "[2, 1]"
      ]
     },
     "execution_count": 16,
     "metadata": {},
     "output_type": "execute_result"
    }
   ],
   "source": [
    "aa.pop()"
   ]
  },
  {
   "cell_type": "code",
   "execution_count": 17,
   "metadata": {},
   "outputs": [
    {
     "data": {
      "text/plain": [
       "[[4, 6], [3, 5]]"
      ]
     },
     "execution_count": 17,
     "metadata": {},
     "output_type": "execute_result"
    }
   ],
   "source": [
    "aa"
   ]
  },
  {
   "cell_type": "code",
   "execution_count": null,
   "metadata": {},
   "outputs": [],
   "source": []
  }
 ],
 "metadata": {
  "kernelspec": {
   "display_name": "Python 3",
   "language": "python",
   "name": "python3"
  },
  "language_info": {
   "codemirror_mode": {
    "name": "ipython",
    "version": 3
   },
   "file_extension": ".py",
   "mimetype": "text/x-python",
   "name": "python",
   "nbconvert_exporter": "python",
   "pygments_lexer": "ipython3",
   "version": "3.6.3"
  },
  "toc": {
   "nav_menu": {},
   "number_sections": true,
   "sideBar": true,
   "skip_h1_title": false,
   "toc_cell": false,
   "toc_position": {},
   "toc_section_display": "block",
   "toc_window_display": false
  }
 },
 "nbformat": 4,
 "nbformat_minor": 2
}
