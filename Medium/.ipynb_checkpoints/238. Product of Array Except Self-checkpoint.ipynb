{
 "cells": [
  {
   "cell_type": "markdown",
   "metadata": {},
   "source": [
    "# 思路：\n",
    "\n",
    "    1、还是空间换时间啊，3次遍历，太秀了。"
   ]
  },
  {
   "cell_type": "code",
   "execution_count": 9,
   "metadata": {},
   "outputs": [],
   "source": [
    "def solution(nums):\n",
    "    left=[1]*len(nums)\n",
    "    right=[1]*len(nums)\n",
    "    \n",
    "    for i in range(len(nums)-1):\n",
    "        left[i+1]=left[i]*nums[i]\n",
    "    for i in range(len(nums)-1,0,-1):\n",
    "        right[i-1]=right[i]*nums[i]\n",
    "    result=[]\n",
    "    for i,j in zip(left,right):\n",
    "        result.append(i*j)\n",
    "    return result"
   ]
  },
  {
   "cell_type": "code",
   "execution_count": 24,
   "metadata": {},
   "outputs": [],
   "source": [
    "# O(1)空间需求的\n",
    "def solution2(nums):\n",
    "#     left=[1]*len(nums)\n",
    "#     right=[1]*len(nums)\n",
    "    result=[1]*len(nums)\n",
    "    \n",
    "    for i in range(len(nums)-1):\n",
    "        result[i+1]=result[i]*nums[i]\n",
    "    right=1\n",
    "    for i in range(len(nums)-1,-1,-1):\n",
    "        result[i]=result[i]*right\n",
    "        right=right*nums[i]\n",
    "    \n",
    "#     result=[]\n",
    "#     for i,j in zip(left,right):\n",
    "#         result.append(i*j)\n",
    "    return result"
   ]
  },
  {
   "cell_type": "code",
   "execution_count": 25,
   "metadata": {},
   "outputs": [
    {
     "data": {
      "text/plain": [
       "[24, 12, 8, 6]"
      ]
     },
     "execution_count": 25,
     "metadata": {},
     "output_type": "execute_result"
    }
   ],
   "source": [
    "nums=[1,2,3,4]\n",
    "solution2(nums)"
   ]
  },
  {
   "cell_type": "code",
   "execution_count": null,
   "metadata": {},
   "outputs": [],
   "source": [
    "#没有额外空间的操作。\n",
    "public class Solution {\n",
    "    public int[] productExceptSelf(int[] nums) {\n",
    "        int[] res = new int[nums.length];\n",
    "        res[res.length-1] = 1;\n",
    "        for(int i=nums.length-2; i>=0; i--) {\n",
    "            res[i] = res[i+1] * nums[i+1];\n",
    "        }\n",
    "        \n",
    "        int left = 1;\n",
    "        for(int i=0; i<nums.length; i++) {\n",
    "            res[i] *= left;\n",
    "            left *= nums[i];\n",
    "        }\n",
    "        return res;\n",
    "    }\n",
    "}\n"
   ]
  }
 ],
 "metadata": {
  "kernelspec": {
   "display_name": "Python 3",
   "language": "python",
   "name": "python3"
  },
  "language_info": {
   "codemirror_mode": {
    "name": "ipython",
    "version": 3
   },
   "file_extension": ".py",
   "mimetype": "text/x-python",
   "name": "python",
   "nbconvert_exporter": "python",
   "pygments_lexer": "ipython3",
   "version": "3.6.4"
  },
  "toc": {
   "base_numbering": 1,
   "nav_menu": {},
   "number_sections": true,
   "sideBar": true,
   "skip_h1_title": false,
   "title_cell": "Table of Contents",
   "title_sidebar": "Contents",
   "toc_cell": false,
   "toc_position": {},
   "toc_section_display": true,
   "toc_window_display": false
  }
 },
 "nbformat": 4,
 "nbformat_minor": 2
}
