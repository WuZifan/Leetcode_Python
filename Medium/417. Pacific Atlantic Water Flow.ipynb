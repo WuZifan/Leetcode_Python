{
 "cells": [
  {
   "cell_type": "code",
   "execution_count": 77,
   "metadata": {},
   "outputs": [
    {
     "name": "stdout",
     "output_type": "stream",
     "text": [
      "0\n",
      "1\n",
      "2\n"
     ]
    }
   ],
   "source": [
    "for i in  range(3):\n",
    "    print(i)"
   ]
  },
  {
   "cell_type": "code",
   "execution_count": 82,
   "metadata": {},
   "outputs": [],
   "source": [
    "class Solution:\n",
    "    def pacificAtlantic(self, matrix):\n",
    "        self.matrix=matrix\n",
    "        self.m=len(matrix)\n",
    "        self.n=len(matrix[0])\n",
    "        print(self.m,self.n)\n",
    "        target_pts=[0,1]\n",
    "        result=[]\n",
    "        for i in range(self.m):\n",
    "            for j in range(self.n):\n",
    "                now_pt=(i,j)\n",
    "                flag=True\n",
    "                for target_pt in target_pts:\n",
    "                    flag=self.find_path(now_pt,target_pt,[])\n",
    "#                     print(now_pt,flag)\n",
    "                    if not flag:\n",
    "                        break\n",
    "                if flag:\n",
    "                    result.append(now_pt)\n",
    "        return result\n",
    "                    \n",
    "    \n",
    "\n",
    "\n",
    "    def find_path(self,now_point,target_sea,record):\n",
    "    \n",
    "        record.append(now_point)\n",
    "        flag=False\n",
    "        x=now_point[0]\n",
    "        y=now_point[1]\n",
    "\n",
    "        if target_sea==0:\n",
    "            if x==0 or y==0:\n",
    "                return True\n",
    "        elif target_sea==1:\n",
    "            if x==self.m-1 or y==self.n-1:\n",
    "                return True\n",
    "\n",
    "        left_point=None\n",
    "        if x>0:\n",
    "            left_point=(x-1,y)\n",
    "\n",
    "        right_point=None\n",
    "        if x<self.m-1:\n",
    "            right_point=(x+1,y)\n",
    "\n",
    "        up_point=None\n",
    "        if y>0:\n",
    "            up_point=(x,y-1)\n",
    "\n",
    "        down_point=None\n",
    "        if y<self.n-1:\n",
    "            down_point=(x,y+1)\n",
    "\n",
    "        pts=[left_point,right_point,up_point,down_point]\n",
    "#         print(now_point,pts)\n",
    "        for pt in pts:\n",
    "            temp_now=self.matrix[x][y]\n",
    "            if pt!=None and pt not in record:\n",
    "                temp_next=self.matrix[pt[0]][pt[1]]\n",
    "                if temp_next<=temp_now:\n",
    "                    flag=self.find_path(pt,target_sea,record)\n",
    "                    if flag:\n",
    "                        return flag\n",
    "        return flag"
   ]
  },
  {
   "cell_type": "code",
   "execution_count": 83,
   "metadata": {},
   "outputs": [],
   "source": [
    "matrix=[[3,3,3,3,3,3],[3,0,3,3,0,3],[3,3,3,3,3,3]]"
   ]
  },
  {
   "cell_type": "code",
   "execution_count": 84,
   "metadata": {},
   "outputs": [
    {
     "name": "stdout",
     "output_type": "stream",
     "text": [
      "3 6\n"
     ]
    },
    {
     "data": {
      "text/plain": [
       "[(0, 0),\n",
       " (0, 1),\n",
       " (0, 2),\n",
       " (0, 3),\n",
       " (0, 4),\n",
       " (0, 5),\n",
       " (1, 0),\n",
       " (1, 2),\n",
       " (1, 3),\n",
       " (1, 5),\n",
       " (2, 0),\n",
       " (2, 1),\n",
       " (2, 2),\n",
       " (2, 3),\n",
       " (2, 4),\n",
       " (2, 5)]"
      ]
     },
     "execution_count": 84,
     "metadata": {},
     "output_type": "execute_result"
    }
   ],
   "source": [
    "s=Solution()\n",
    "s.pacificAtlantic(matrix)"
   ]
  },
  {
   "cell_type": "code",
   "execution_count": null,
   "metadata": {},
   "outputs": [],
   "source": []
  },
  {
   "cell_type": "code",
   "execution_count": 47,
   "metadata": {},
   "outputs": [],
   "source": [
    "\n",
    "\n",
    "\n",
    "def find_path(now_point,target_sea,record):\n",
    "    \n",
    "    record.append(now_point)\n",
    "    flag=False\n",
    "    x=now_point[0]\n",
    "    y=now_point[1]\n",
    "    \n",
    "    if target_sea==0:\n",
    "        if x==0 or y==0:\n",
    "            return True\n",
    "    elif target_sea==1:\n",
    "        if x==m-1 or y==n-1:\n",
    "            return True\n",
    "    \n",
    "    left_point=None\n",
    "    if x>0:\n",
    "        left_point=(x-1,y)\n",
    "    \n",
    "    right_point=None\n",
    "    if x<n-1:\n",
    "        right_point=(x+1,y)\n",
    "    \n",
    "    up_point=None\n",
    "    if y>0:\n",
    "        up_point=(x,y-1)\n",
    "    \n",
    "    down_point=None\n",
    "    if y<m-1:\n",
    "        down_point=(x,y+1)\n",
    "    \n",
    "    pts=[left_point,right_point,up_point,down_point]\n",
    "    print(now_point,pts)\n",
    "    for pt in pts:\n",
    "        temp_now=matrix[x][y]\n",
    "        if pt!=None and pt not in record:\n",
    "            temp_next=matrix[pt[0]][pt[1]]\n",
    "            if temp_next<=temp_now:\n",
    "                flag=find_path(pt,target_sea,record)\n",
    "                if flag:\n",
    "                    return flag\n",
    "    return flag"
   ]
  },
  {
   "cell_type": "code",
   "execution_count": 48,
   "metadata": {},
   "outputs": [],
   "source": [
    "def solution(matrix):\n",
    "    m=len(matrix)\n",
    "    n=len(matrix[0])"
   ]
  },
  {
   "cell_type": "code",
   "execution_count": 50,
   "metadata": {},
   "outputs": [
    {
     "data": {
      "text/plain": [
       "True"
      ]
     },
     "execution_count": 50,
     "metadata": {},
     "output_type": "execute_result"
    }
   ],
   "source": [
    "find_path((0,4),1,[])"
   ]
  },
  {
   "cell_type": "code",
   "execution_count": 2,
   "metadata": {},
   "outputs": [],
   "source": [
    "matrix=[[1,2,2,3,5],[3,2,3,4,4],[2,4,5,3,1],[6,7,1,4,5],[5,1,1,2,4]]\n",
    "m=len(matrix)\n",
    "n=len(matrix[0])"
   ]
  },
  {
   "cell_type": "code",
   "execution_count": 4,
   "metadata": {},
   "outputs": [
    {
     "data": {
      "text/plain": [
       "2"
      ]
     },
     "execution_count": 4,
     "metadata": {},
     "output_type": "execute_result"
    }
   ],
   "source": [
    "matrix[0][1]"
   ]
  },
  {
   "cell_type": "code",
   "execution_count": null,
   "metadata": {},
   "outputs": [],
   "source": []
  }
 ],
 "metadata": {
  "kernelspec": {
   "display_name": "Python 3",
   "language": "python",
   "name": "python3"
  },
  "language_info": {
   "codemirror_mode": {
    "name": "ipython",
    "version": 3
   },
   "file_extension": ".py",
   "mimetype": "text/x-python",
   "name": "python",
   "nbconvert_exporter": "python",
   "pygments_lexer": "ipython3",
   "version": "3.6.3"
  },
  "toc": {
   "nav_menu": {},
   "number_sections": true,
   "sideBar": true,
   "skip_h1_title": false,
   "toc_cell": false,
   "toc_position": {},
   "toc_section_display": "block",
   "toc_window_display": false
  }
 },
 "nbformat": 4,
 "nbformat_minor": 2
}
