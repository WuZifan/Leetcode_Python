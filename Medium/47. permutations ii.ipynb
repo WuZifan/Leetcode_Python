{
 "cells": [
  {
   "cell_type": "markdown",
   "metadata": {},
   "source": [
    "## 思路:\n",
    "\n",
    "思路1：\n",
    "\n",
    "    1、我这个递归本质上是一个dfs…贼蠢。\n",
    "    2、对于输入是【1，2，3】，我会走1—>2>->3;1->3->2;2->1->3;...等顺序\n",
    "    3、然后把每条链路都存起来，去个重就好了…\n",
    "    4、其中涉及到一些list的copy，才会这么麻烦的。\n",
    "    \n",
    "思路2：大神思路：\n",
    "\n",
    "    1、三层循环：\n",
    "        1.0 预定义结果list  ans=[[]]\n",
    "        1.1 对于nums中的每个元素n\n",
    "            1.1.1 预定义新的结果集new_ans\n",
    "        1.2 对于ans中的每个结果l\n",
    "        1.3 对于结果中的每一位i\n",
    "              1.3.1 考虑将n插入到l中第i位上，得到新的结果，new_l,并且更新到新的结果集，new_ans中\n",
    "              1.3.2 更新完成后，考虑是否需要继续更新，\n",
    "              1.3.3 如果l的第i位，和我们更新元素n相同，那么跳出对这个l的更新，取下一个l，对下一个l再更新。\n",
    "        1.4 对每一位更新完后，更新ans=new_ans\n",
    "        1.4 具体解释看下面我写的注释\n",
    "\n",
    "\n",
    "\n",
    "** 其实最原始的方法就应该按照大神的思路，最后用set接住所有的结果就行了… **\n",
    "              "
   ]
  },
  {
   "cell_type": "code",
   "execution_count": 90,
   "metadata": {},
   "outputs": [],
   "source": [
    "class Solution:\n",
    "    def permuteUnique(self, nums):\n",
    "        \"\"\"\n",
    "        :type nums: List[int]\n",
    "        :rtype: List[List[int]]\n",
    "        \"\"\"\n",
    "        re_list,judge_list=self.digui(nums,0,[],[],[])                \n",
    "               \n",
    "        return re_list\n",
    "    \n",
    "    def digui(self,nums,ind,re_list,judge_list,temp_list):\n",
    "                \n",
    "        for i in nums:\n",
    "\n",
    "            if len(temp_list)==ind:\n",
    "                temp_list.append(i)\n",
    "                print(temp_list)\n",
    "            else:\n",
    "                temp_list[ind]=i\n",
    "                print('here',temp_list)\n",
    "\n",
    "            b=nums.copy()\n",
    "            b.remove(i)\n",
    "\n",
    "            if len(nums)==1:\n",
    "                temp_judge=''.join([str(_) for _ in temp_list])\n",
    "                if temp_judge not in judge_list:\n",
    "                    judge_list.append(temp_judge)\n",
    "                                        \n",
    "                    re_list.append(temp_list.copy())\n",
    "            else:\n",
    "                re_list,judge_list=self.digui(b,ind+1,re_list,judge_list,temp_list)\n",
    "                \n",
    "        return re_list,judge_list\n",
    "        "
   ]
  },
  {
   "cell_type": "code",
   "execution_count": 91,
   "metadata": {},
   "outputs": [
    {
     "name": "stdout",
     "output_type": "stream",
     "text": [
      "[1]\n",
      "[1, 1]\n",
      "[1, 1, 2]\n",
      "here [1, 2, 2]\n",
      "here [1, 2, 1]\n",
      "here [1, 2, 1]\n",
      "here [1, 1, 1]\n",
      "here [1, 1, 2]\n",
      "here [1, 2, 2]\n",
      "here [1, 2, 1]\n",
      "here [2, 2, 1]\n",
      "here [2, 1, 1]\n",
      "here [2, 1, 1]\n",
      "here [2, 1, 1]\n",
      "here [2, 1, 1]\n"
     ]
    },
    {
     "data": {
      "text/plain": [
       "[[1, 1, 2], [1, 2, 1], [2, 1, 1]]"
      ]
     },
     "execution_count": 91,
     "metadata": {},
     "output_type": "execute_result"
    }
   ],
   "source": [
    "s=Solution()\n",
    "s.permuteUnique([1,1,2])"
   ]
  },
  {
   "cell_type": "code",
   "execution_count": null,
   "metadata": {},
   "outputs": [],
   "source": [
    "'''\n",
    "大神思路\n",
    "'''\n",
    "def permuteUnique(self, nums):\n",
    "    ans = [[]]\n",
    "    for n in nums:\n",
    "        new_ans = []\n",
    "        for l in ans:\n",
    "            for i in range(len(l)+1):\n",
    "                new_ans.append(l[:i]+[n]+l[i:])\n",
    "                if i<len(l) and l[i]==n: break              #handles duplication\n",
    "        ans = new_ans\n",
    "    return ans"
   ]
  },
  {
   "cell_type": "code",
   "execution_count": 84,
   "metadata": {},
   "outputs": [],
   "source": [
    "def permu(nums):\n",
    "    ans=[[]]\n",
    "    # 每一个元素\n",
    "    for n in nums:\n",
    "        new_ans=[]\n",
    "        # 每一个答案\n",
    "        for l in ans:\n",
    "            # 每个答案的每个位置\n",
    "            for i in range(len(l)+1):\n",
    "                # 在第i位插入元素n\n",
    "                new_l=l[:i]+[n]+l[i:]\n",
    "                new_ans.append(new_l)\n",
    "                # 判断是否重复,即判断我插入的这一位上原来的值，和我现在插入的值是否一致。\n",
    "                # 如果一致，那么我也就到此为止，在这一轮不需要在往后面插入了。\n",
    "                # 这个值会陆续出现在后面，我只要每次到他面前停下就行。\n",
    "                # 就比如输入是【1，1，1，2，2】，前面一ans结果是【  [1,1,1]】\n",
    "                # 那么第一次n=2时，对l每一位结果进行遍历，得到【【2，1，1，1】，【1，2，1，1】，【1，1，2，1】，【1，1，1，2】】\n",
    "                # 那么当第二次n=2插入时，对于【2，1，1，1】，会在得到【2，2，1，1，1】就停下\n",
    "                # 这时可能会担心【2，1，2，1，1】错过来，但是通过第二个l，即【1，2，1，1】的每一位插入\n",
    "                # 就会得到【2，1，2，1，1】和【1，2，2，1，1】，后面以此类推\n",
    "                if i<len(l) and l[i]==n:\n",
    "                    break\n",
    "        ans=new_ans\n",
    "    return ans"
   ]
  },
  {
   "cell_type": "code",
   "execution_count": 85,
   "metadata": {},
   "outputs": [
    {
     "data": {
      "text/plain": [
       "[[2, 1, 1], [1, 2, 1], [1, 1, 2]]"
      ]
     },
     "execution_count": 85,
     "metadata": {},
     "output_type": "execute_result"
    }
   ],
   "source": [
    "permu([1,1,2])"
   ]
  },
  {
   "cell_type": "code",
   "execution_count": null,
   "metadata": {},
   "outputs": [],
   "source": []
  }
 ],
 "metadata": {
  "kernelspec": {
   "display_name": "Python 3",
   "language": "python",
   "name": "python3"
  },
  "language_info": {
   "codemirror_mode": {
    "name": "ipython",
    "version": 3
   },
   "file_extension": ".py",
   "mimetype": "text/x-python",
   "name": "python",
   "nbconvert_exporter": "python",
   "pygments_lexer": "ipython3",
   "version": "3.6.3"
  },
  "toc": {
   "nav_menu": {},
   "number_sections": true,
   "sideBar": true,
   "skip_h1_title": false,
   "toc_cell": false,
   "toc_position": {},
   "toc_section_display": "block",
   "toc_window_display": false
  }
 },
 "nbformat": 4,
 "nbformat_minor": 2
}
