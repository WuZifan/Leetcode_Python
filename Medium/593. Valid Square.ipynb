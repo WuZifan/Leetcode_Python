{
 "cells": [
  {
   "cell_type": "markdown",
   "metadata": {},
   "source": [
    "## 思路：\n",
    "\n",
    "    1、简单就是看4边是否相等，以及对角线是否相等把。\n",
    "    2、如果1中两个条件都满足，那么就是正方向，不然不是。\n",
    "    3、另外"
   ]
  },
  {
   "cell_type": "code",
   "execution_count": 19,
   "metadata": {},
   "outputs": [],
   "source": [
    "def solution(p1=[0,0],p2=[1,1],p3=[1,0],p4=[0,1]):\n",
    "    def cal_dis(pt1,pt2):\n",
    "        return (pt1[0]-pt2[0])**2+(pt1[1]-pt2[1])**2\n",
    "    \n",
    "    my_set=set()\n",
    "    pts=[p1,p2,p3,p4]\n",
    "    for i in range(len(pts)):\n",
    "        for pt in pts[i+1:]:\n",
    "            my_set.add(cal_dis(pts[i],pt))\n",
    "    if len(my_set)==2 and 0 not in my_set:\n",
    "        return True\n",
    "    else:\n",
    "        return False\n",
    "    "
   ]
  },
  {
   "cell_type": "code",
   "execution_count": 20,
   "metadata": {},
   "outputs": [
    {
     "data": {
      "text/plain": [
       "True"
      ]
     },
     "execution_count": 20,
     "metadata": {},
     "output_type": "execute_result"
    }
   ],
   "source": [
    "solution()"
   ]
  },
  {
   "cell_type": "code",
   "execution_count": null,
   "metadata": {},
   "outputs": [],
   "source": []
  }
 ],
 "metadata": {
  "kernelspec": {
   "display_name": "Python 3",
   "language": "python",
   "name": "python3"
  },
  "language_info": {
   "codemirror_mode": {
    "name": "ipython",
    "version": 3
   },
   "file_extension": ".py",
   "mimetype": "text/x-python",
   "name": "python",
   "nbconvert_exporter": "python",
   "pygments_lexer": "ipython3",
   "version": "3.6.4"
  },
  "toc": {
   "base_numbering": 1,
   "nav_menu": {},
   "number_sections": true,
   "sideBar": true,
   "skip_h1_title": false,
   "title_cell": "Table of Contents",
   "title_sidebar": "Contents",
   "toc_cell": false,
   "toc_position": {},
   "toc_section_display": true,
   "toc_window_display": false
  }
 },
 "nbformat": 4,
 "nbformat_minor": 2
}
