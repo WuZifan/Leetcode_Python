{
 "cells": [
  {
   "cell_type": "code",
   "execution_count": 10,
   "metadata": {},
   "outputs": [],
   "source": [
    "import time"
   ]
  },
  {
   "cell_type": "code",
   "execution_count": 7,
   "metadata": {},
   "outputs": [],
   "source": [
    "num_mines = 5\n",
    "num_people=100\n",
    "\n",
    "gain=[(77,92),(22,22),(29,87),(50,46),(99,90)]"
   ]
  },
  {
   "cell_type": "markdown",
   "metadata": {},
   "source": [
    "# 问题描述：\n",
    "\n",
    "我有100个人，5个金矿。\n",
    "\n",
    "每个金矿需要的人和收益都知道。\n",
    "\n",
    "人只能用一次。\n",
    "\n",
    "需要知道最多能够赚多少钱。"
   ]
  },
  {
   "cell_type": "markdown",
   "metadata": {},
   "source": [
    "# 思路\n",
    "\n",
    "将它视为一个动态规划问题。\n",
    "\n",
    "每次我们有两个选择：\n",
    "\n",
    "    1、挖现在这个金矿\n",
    "    2、不挖现在这个金矿。\n",
    "\n",
    "我们需要计算，在每种情况下，剩下的人，和金矿，能够带来多少收益。\n",
    "\n",
    "边界条件：\n",
    "    \n",
    "    1、金矿没了\n",
    "    2、剩下的人数，小于任何一个金矿所需人数"
   ]
  },
  {
   "cell_type": "code",
   "execution_count": 6,
   "metadata": {},
   "outputs": [],
   "source": [
    "\n",
    "\n",
    "def gold_mine(people,mine_list):\n",
    "    '''\n",
    "    先定义边界条件\n",
    "    '''\n",
    "    if len(mine_list) == 0:\n",
    "        return 0\n",
    "    \n",
    "    people_min_require = min([a[0] for a in mine_list])\n",
    "    if people<people_min_require:\n",
    "        return 0\n",
    "    \n",
    "    people_need,gold_gain = mine_list.pop()\n",
    "    \n",
    "    '''\n",
    "        使用这个金矿\n",
    "    '''\n",
    "    use_all_gain = gold_mine(people-people_need,mine_list)\n",
    "    use_all_gain = use_all_gain+gold_gain\n",
    "    '''\n",
    "        不用这个金矿\n",
    "    '''\n",
    "    no_all_gain = gold_mine(people,mine_list)\n",
    "    \n",
    "    return max(use_all_gain,no_all_gain)"
   ]
  },
  {
   "cell_type": "code",
   "execution_count": 12,
   "metadata": {},
   "outputs": [
    {
     "name": "stdout",
     "output_type": "stream",
     "text": [
      "0.0 133\n"
     ]
    }
   ],
   "source": [
    "gain=[(77,92),(22,22),(29,87),(50,46),(99,90)]\n",
    "start = time.time()\n",
    "res = gold_mine(num_people,gain)\n",
    "end = time.time()\n",
    "print(end-start,res)"
   ]
  },
  {
   "cell_type": "markdown",
   "metadata": {},
   "source": [
    "# 问题2：\n",
    "\n",
    "    找到最大子串和，[-2,1,-3,4,-1,2,1,-5,4]\n",
    "    \n",
    "思路：\n",
    "\n",
    "    1、对于list中的每一位i，记录从0位开始，到i，包含i的最大子串之和。\n",
    "\n",
    "    list中的每一位i，属于他的最大子串为\n",
    "    MS[i] = max(MS[i-1]+list[i],list[i])\n",
    "\n",
    "    "
   ]
  },
  {
   "cell_type": "code",
   "execution_count": 23,
   "metadata": {},
   "outputs": [],
   "source": [
    "input_array=[-2,1,-3,4,-1,2,1,-5,4]"
   ]
  },
  {
   "cell_type": "code",
   "execution_count": 24,
   "metadata": {},
   "outputs": [],
   "source": [
    "# using dynamic programming to slove maximum subarray problem\n",
    "def DP_maximum_subarray(arr):\n",
    "    t = len(arr)\n",
    "    MS = [0]*t\n",
    "    MS[0] = arr[0]\n",
    "\n",
    "    for i in range(1, t):\n",
    "        MS[i] = max(MS[i-1]+arr[i], arr[i])\n",
    "\n",
    "    return MS"
   ]
  },
  {
   "cell_type": "code",
   "execution_count": 25,
   "metadata": {},
   "outputs": [
    {
     "name": "stdout",
     "output_type": "stream",
     "text": [
      "1\n",
      "-2\n",
      "4\n",
      "3\n",
      "5\n",
      "6\n",
      "1\n",
      "5\n"
     ]
    },
    {
     "data": {
      "text/plain": [
       "6"
      ]
     },
     "execution_count": 25,
     "metadata": {},
     "output_type": "execute_result"
    }
   ],
   "source": [
    "max(DP_maximum_subarray(input_array))"
   ]
  },
  {
   "cell_type": "markdown",
   "metadata": {},
   "source": [
    "# 总结：\n",
    "\n",
    "    1、不是动态规划就意味着递归。\n",
    "    2、有的时候动态规划外面还包着一层其他东西，需要取寻找它的最优子结构。"
   ]
  },
  {
   "cell_type": "markdown",
   "metadata": {},
   "source": [
    "# 问题3：\n",
    "\n",
    "    一共n阶台阶，每次只能上1层或者2层，\n",
    "    问恰好到的n阶的方法有几种\n",
    "    \n",
    "边界：\n",
    "\n",
    "    1、只剩下一步或者两步。\n",
    "\n",
    "最优子问题：\n",
    "\n",
    "    对于第i步，它到达目标的方式有：\n",
    "        1、往前走一步，然后有k1种方式。\n",
    "        2、往前走二步，然后有k2中方式。\n",
    "    \n",
    "问题求解：\n",
    "\n",
    "    对于最开始：\n",
    "        1、往前走一步，然后有k1种方式。\n",
    "        2、往前走二步，然后有k2中方式。\n",
    "    相加即可"
   ]
  },
  {
   "cell_type": "code",
   "execution_count": 29,
   "metadata": {},
   "outputs": [],
   "source": [
    "temp_dict = {}\n",
    "\n",
    "\n",
    "def stairs(stairs_left):\n",
    "    if stairs_left ==1 :\n",
    "        return 1\n",
    "    if stairs_left ==2:\n",
    "        return 2\n",
    "    \n",
    "    if stairs_left-1 in temp_dict.keys():\n",
    "        a = temp_dict[stairs_left-1]\n",
    "    else:\n",
    "        a = stairs(stairs_left-1)\n",
    "   \n",
    "    if stairs_left-2 in temp_dict.keys():\n",
    "        b = temp_dict[stairs_left-2]\n",
    "    else:\n",
    "        b = stairs(stairs_left-2)    \n",
    "    \n",
    "    temp_dict[stairs_left]=a+b\n",
    "    \n",
    "    return a+b"
   ]
  },
  {
   "cell_type": "code",
   "execution_count": 31,
   "metadata": {},
   "outputs": [
    {
     "data": {
      "text/plain": [
       "63245986"
      ]
     },
     "execution_count": 31,
     "metadata": {},
     "output_type": "execute_result"
    }
   ],
   "source": [
    "stairs(38)"
   ]
  },
  {
   "cell_type": "markdown",
   "metadata": {},
   "source": [
    "# 总结\n",
    "\n",
    "    1、思考动态规划问题的时候：\n",
    "        1.1 顺着思考就好。\n",
    "        1.2 终止条件就是抵达最后时刻的状态。\n",
    "        1.3 理清楚每个时刻由几种选择。\n",
    "    2、用‘备忘录’真的能够加速"
   ]
  },
  {
   "cell_type": "markdown",
   "metadata": {},
   "source": [
    "# 问题4：best time to buy stock\n",
    "\n",
    "    1、给一串数字，表示每个时刻的stock价格。\n",
    "    2、仅可以完成一次交易，求最高收益\n",
    "\n",
    "思路：\n",
    "\n",
    "    感觉和上面那个最大子串很像。\n",
    "    \n",
    "    对于每一个位置，我都求一个，到当前位置为止，最大的收益。\n",
    "    dp[i] = max(dp[i-1],list[i]-min(list[:i]))\n",
    "    \n",
    "或者这又是一个最大子串问题：\n",
    "\n",
    "    1、将prices中的每个位子与前面一位相减，得到差值。\n",
    "    2、求这个差值组成的list中，最大连续和。\n",
    "    \n",
    "比较下来，下面这个方法会快很多，不过有一些边界条件需要考虑到。\n"
   ]
  },
  {
   "cell_type": "code",
   "execution_count": 34,
   "metadata": {},
   "outputs": [],
   "source": [
    "def maxProfit(prices):\n",
    "    dp=[0]*len(prices)\n",
    "    \n",
    "    for i in range(1,len(prices)):\n",
    "        dp[i] = max(dp[i-1],prices[i]-min(prices[:i]))\n",
    "    return max(dp)"
   ]
  },
  {
   "cell_type": "code",
   "execution_count": 43,
   "metadata": {},
   "outputs": [
    {
     "data": {
      "text/plain": [
       "0"
      ]
     },
     "execution_count": 43,
     "metadata": {},
     "output_type": "execute_result"
    }
   ],
   "source": [
    "maxProfit([1])"
   ]
  },
  {
   "cell_type": "code",
   "execution_count": 45,
   "metadata": {},
   "outputs": [
    {
     "data": {
      "text/plain": [
       "0"
      ]
     },
     "execution_count": 45,
     "metadata": {},
     "output_type": "execute_result"
    }
   ],
   "source": [
    "\n",
    "def maxProfit2(prices):\n",
    "    temp_p = []\n",
    "    for i in range(1,len(prices)):\n",
    "        temp_p.append(prices[i]-prices[i-1])\n",
    "    \n",
    "    dp=[0]*len(temp_p)\n",
    "    dp[0]=temp_p[0]\n",
    "    \n",
    "    for i in range(1,len(temp_p)):\n",
    "        dp[i]=max(dp[i-1]+temp_p[i],temp_p[i])\n",
    "    \n",
    "    dp.append(0)\n",
    "    \n",
    "    return max(dp)\n",
    "maxProfit2([7,6,4,3,1])"
   ]
  },
  {
   "cell_type": "markdown",
   "metadata": {},
   "source": [
    "# 问题5：House Robber\n",
    "\n",
    "问题：\n",
    "\n",
    "    给一个list，求不相邻的元素的最大和。\n",
    "\n",
    "感觉思路是一样：\n",
    "\n",
    "    dp[i]表示当前位置,在包含list[i]时能够拿到的最大和。\n",
    "    dp[i] = max(dp[:i-1])+list[i]\n",
    "    相当于是前面的最大和 加上 现在这个位置。\n",
    "    \n",
    "    加快的话，可以只需要考虑dp[i-2]和dp[i-3]的大小\n",
    "\n",
    "边界条件：\n",
    "\n",
    "    dp[0]=list[0]\n",
    "    dp[1]=list[1]\n",
    "    \n"
   ]
  },
  {
   "cell_type": "code",
   "execution_count": 73,
   "metadata": {},
   "outputs": [],
   "source": [
    "def rob(nums):\n",
    "    dp=[0]*len(nums)\n",
    "    dp[0]=nums[0]\n",
    "    dp[1]=nums[1]\n",
    "    for i in range(2,len(nums)):\n",
    "        dp[i] = max(dp[:i-1])+nums[i]\n",
    "    print(dp)\n",
    "    return max(dp)"
   ]
  },
  {
   "cell_type": "code",
   "execution_count": 74,
   "metadata": {},
   "outputs": [],
   "source": [
    "def rob2(nums):\n",
    "    dp=[0]*len(nums)\n",
    "    dp[0]=nums[0]\n",
    "    dp[1]=nums[1]\n",
    "    for i in range(2,len(nums)):\n",
    "        print(dp[i-2],dp[i-3])\n",
    "        dp[i] = max(dp[i-2],dp[i-3])+nums[i]\n",
    "    print(dp)\n",
    "    return max(dp)"
   ]
  },
  {
   "cell_type": "code",
   "execution_count": 75,
   "metadata": {},
   "outputs": [
    {
     "name": "stdout",
     "output_type": "stream",
     "text": [
      "[2, 1, 3]\n"
     ]
    },
    {
     "data": {
      "text/plain": [
       "3"
      ]
     },
     "execution_count": 75,
     "metadata": {},
     "output_type": "execute_result"
    }
   ],
   "source": [
    "rob([2,1,1])"
   ]
  },
  {
   "cell_type": "code",
   "execution_count": null,
   "metadata": {},
   "outputs": [],
   "source": []
  }
 ],
 "metadata": {
  "kernelspec": {
   "display_name": "Python 3",
   "language": "python",
   "name": "python3"
  },
  "language_info": {
   "codemirror_mode": {
    "name": "ipython",
    "version": 3
   },
   "file_extension": ".py",
   "mimetype": "text/x-python",
   "name": "python",
   "nbconvert_exporter": "python",
   "pygments_lexer": "ipython3",
   "version": "3.6.4"
  },
  "toc": {
   "base_numbering": 1,
   "nav_menu": {},
   "number_sections": true,
   "sideBar": true,
   "skip_h1_title": false,
   "title_cell": "Table of Contents",
   "title_sidebar": "Contents",
   "toc_cell": false,
   "toc_position": {},
   "toc_section_display": true,
   "toc_window_display": false
  }
 },
 "nbformat": 4,
 "nbformat_minor": 2
}
